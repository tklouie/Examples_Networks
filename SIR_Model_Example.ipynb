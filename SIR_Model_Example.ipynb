{
 "metadata": {
  "name": "sir_model_example.ipynb",
  "signature": "sha256:2eb5469d48a6d279bc180afcda21511efd48f9fbd85b03f582754bcf70e4e77b"
 },
 "nbformat": 3,
 "nbformat_minor": 0,
 "worksheets": [
  {
   "cells": [
    {
     "cell_type": "heading",
     "level": 1,
     "metadata": {},
     "source": [
      "Epidemic Spreading and Diffusion of Anti-Vaccine Sentiment"
     ]
    },
    {
     "cell_type": "markdown",
     "metadata": {},
     "source": [
      "Disclaimer: The following scenario is entirely fictious. Scenario created for final project of HSPH BIO 521 class, \"Introduction to Biological and Social Networks\"."
     ]
    },
    {
     "cell_type": "markdown",
     "metadata": {
      "slideshow": {
       "slide_type": "-"
      }
     },
     "source": [
      "A dangerous pathogen is circulating among the US general population. Fortunately, scientists have recently been able to develop a vaccine that is 90% effective, i.e., 90% of people who are vaccinated gain full immunity against the disease. Regardless of its ability to prevent the disease in 9 out of 10 people, a small number of ill-informed individuals have managed to convince the general public that the vaccine is not only ineffective, but also potentially harmful. This anti-vaccine meme has now gone viral on social media and, consequently, more and more people are foregoing the vaccine, thus risking infection.\n",
      "\n",
      "You have been tasked with investigating the situation as detailed below. Time is of the utmost importance.\n"
     ]
    },
    {
     "cell_type": "markdown",
     "metadata": {},
     "source": [
      "There are two processes unfolding simultaneously in this problem. The first process is the spread of the pathogen on a person-to-person contact network $G$, the second processs is the diffusion of an anti-vaccine sentiment on an online social network $H$. The structure of these two networks is distinct; although each consists of exactly the same set of nodes, the ties may or may not overlap. A distinguishing feature between these two networks is that while most people have more or less the same number of ties in their contact network $G$, the mean number of online contacts in network $H$ tends to be higher and has a fat-tailed distribution.\n",
      "\n",
      "Let's get started with the following code, i.e., make sure to run the following code before proceeding."
     ]
    },
    {
     "cell_type": "code",
     "collapsed": false,
     "input": [
      "# Import necessary modules, generate networks.\n",
      "\n",
      "import networkx as nx\n",
      "import random\n",
      "import numpy as np\n",
      "import matplotlib.pyplot as plt\n",
      "%matplotlib inline\n",
      "\n",
      "# Generate the contact graph.\n",
      "G = nx.erdos_renyi_graph(1000, 0.01, seed = 2468)\n",
      "\n",
      "\n",
      "# Generate the online graph.\n",
      "H = nx.barabasi_albert_graph(1000, 10, seed = 2468)"
     ],
     "language": "python",
     "metadata": {},
     "outputs": [],
     "prompt_number": 1
    },
    {
     "cell_type": "heading",
     "level": 3,
     "metadata": {},
     "source": [
      "Question (a)"
     ]
    },
    {
     "cell_type": "markdown",
     "metadata": {},
     "source": [
      "Compute the minimum degree, maximum degree, and mean degree of the contact network $G$ and of the online social network $H$. Describe how these two graphs are generated and what are some of the salient features of the graphs. In particular, describe the following aspects of the two networks: static vs. growing network, single vs. multiple components, how edges are placed in the network, degree distribution, and whether the networks are so-called small-worlds. One paragraph per network is sufficient."
     ]
    },
    {
     "cell_type": "code",
     "collapsed": false,
     "input": [
      "# Minimum, maximum, and mean degree of contact network G\n",
      "# Initialize minimum and maximum degree of contact network G\n",
      "degree_min_G = G.degree(0)\n",
      "degree_max_G = G.degree(0)\n",
      "\n",
      "# Find minimum and maximum degrees of contact network G\n",
      "for node in G.nodes():\n",
      "    if G.degree(node) < degree_min_G:\n",
      "        degree_min_G = G.degree(node)\n",
      "    if G.degree(node) > degree_max_G:\n",
      "        degree_max_G = G.degree(node)\n",
      "\n",
      "# Find mean degree of contact network G\n",
      "degree_mean_G = float(G.number_of_edges())/G.number_of_nodes()\n",
      "\n",
      "# Minimum, maximum, and mean degree of online social network H\n",
      "# Initialize minimum and maximum degree of online social network H\n",
      "degree_min_H = H.degree(0)\n",
      "degree_max_H = H.degree(0)\n",
      "\n",
      "# Find minimum and maximum degrees of online social network H\n",
      "for node in H.nodes():\n",
      "    if H.degree(node) < degree_min_H:\n",
      "        degree_min_H = H.degree(node)\n",
      "    if H.degree(node) > degree_max_H:\n",
      "        degree_max_H = H.degree(node)\n",
      "\n",
      "# Find mean degree of online social network H\n",
      "degree_mean_H = float(H.number_of_edges())/H.number_of_nodes()\n",
      "\n",
      "# print min, max, and mean degrees of networks G and H\n",
      "print degree_min_G, degree_max_G, degree_mean_G, degree_min_H, degree_max_H, degree_mean_H\n"
     ],
     "language": "python",
     "metadata": {},
     "outputs": [
      {
       "output_type": "stream",
       "stream": "stdout",
       "text": [
        "2 23 4.968 10 150 9.9\n"
       ]
      }
     ],
     "prompt_number": 2
    },
    {
     "cell_type": "heading",
     "level": 4,
     "metadata": {},
     "source": [
      "Question (b)"
     ]
    },
    {
     "cell_type": "markdown",
     "metadata": {},
     "source": [
      "Simulate the epidemic spreading process in the absence of the vaccine on the contact network $G$ using a network based SIR model. \n",
      "\n",
      "The S to I transition has been determined to happen with probability 0.25 over a simulation time step (1 day) and the I to R transition with probability 0.12 over a simulation time step. Initially 10 individuals are infected given by init_infs in the code below; the rest of the population remains susceptible.\n",
      "\n",
      "Note that init_infs is defined as a list. List are mutable, so if you pass a list to a function, the function will modify the list itself, not its copy. If your function modifies the list, you need to be careful when calling the function repeatedly.\n",
      "\n",
      "Repeating the simulation 100 times, determine the mean number of individuals infected in the course of the epidemic (including the initial infections) if the epidemic is let to run without any intervention."
     ]
    },
    {
     "cell_type": "code",
     "collapsed": false,
     "input": [
      "init_infs = [6, 263, 270, 604, 640, 645, 704, 850, 965, 994]\n",
      "p_si = 0.25\n",
      "p_ir = 0.12"
     ],
     "language": "python",
     "metadata": {},
     "outputs": [],
     "prompt_number": 3
    },
    {
     "cell_type": "code",
     "collapsed": false,
     "input": [
      "# Recover function- carry out the I -> R recovery process for one time step.\n",
      "def recover(i_nodes , r_nodes , p):\n",
      "    # Initialize new_recoveries variable\n",
      "    new_recoveries = []\n",
      "    \n",
      "    # Determine with probability p whether i_node will turn into r_node\n",
      "    for node in i_nodes:\n",
      "        if random.random() < p:\n",
      "            new_recoveries.append(node)\n",
      "    \n",
      "    # Update i_nodes and r_nodes\n",
      "    for node in new_recoveries:\n",
      "        i_nodes.remove(node)\n",
      "        r_nodes.append(node)\n",
      "    \n",
      "    # Return new_recoveries\n",
      "    return new_recoveries"
     ],
     "language": "python",
     "metadata": {},
     "outputs": [],
     "prompt_number": 4
    },
    {
     "cell_type": "code",
     "collapsed": false,
     "input": [
      "#Spread function- carry out the S -> I spreading process for one time step.\n",
      "def spread(G, s_nodes , i_nodes , p):\n",
      "    \n",
      "    # Initialize new_infections variable\n",
      "    new_infections = []\n",
      "    \n",
      "    # Determine with probability p whether s_node, will become i_node\n",
      "    for node in i_nodes:\n",
      "        neighbors = G.neighbors(node)\n",
      "        if G.degree(node) > 0:\n",
      "            neighbor = random.choice(neighbors)\n",
      "            if (neighbor in s_nodes) and (random.random() < p) and (neighbor not in new_infections):\n",
      "                new_infections.append(neighbor)\n",
      "    \n",
      "    # Update i_nodes and s_nodes\n",
      "    for node in new_infections:\n",
      "        i_nodes.append(node)\n",
      "        s_nodes.remove(node)\n",
      "    \n",
      "    # Return new_infections    \n",
      "    return new_infections"
     ],
     "language": "python",
     "metadata": {},
     "outputs": [],
     "prompt_number": 5
    },
    {
     "cell_type": "code",
     "collapsed": false,
     "input": [
      "# Initialize variables function- infected nodes\n",
      "def init_i_nodes(init_infs):\n",
      "    return init_infs"
     ],
     "language": "python",
     "metadata": {},
     "outputs": [],
     "prompt_number": 6
    },
    {
     "cell_type": "code",
     "collapsed": false,
     "input": [
      "# Initialize variables function- vaccinated nodes\n",
      "def init_vac_nodes(i_nodes, sheep_nodes, celeb_nodes, G, p_vac, frac_vac):\n",
      "    # Determine number of vaccinated nodes\n",
      "    num_vac_nodes = int(floor(frac_vac * G.number_of_nodes()))\n",
      "    vac_nodes_init = random.sample(G.nodes(),num_vac_nodes)\n",
      "    vac_nodes_final = []\n",
      "    \n",
      "    # Determine number of successful vaccinated nodes\n",
      "    for node in vac_nodes_init:\n",
      "        if random.random()<p_vac and node not in i_nodes and node not in sheep_nodes and node not in celeb_nodes:\n",
      "            vac_nodes_final.append(node)\n",
      "    \n",
      "    # Return list of successful vaccinated nodes\n",
      "    return vac_nodes_final"
     ],
     "language": "python",
     "metadata": {},
     "outputs": [],
     "prompt_number": 7
    },
    {
     "cell_type": "code",
     "collapsed": false,
     "input": [
      "# Initialize variables function- susceptible, recovered nodes, number of time steps\n",
      "# NOTE: I put the nodes that were successfully vaccinated (vac_nodes_final) into recovered nodes\n",
      "def init_sr_nodes(G, i_nodes, vac_nodes_final,num_time_steps):\n",
      "    # Initialize S and R nodes\n",
      "    s_nodes = list(set(G.nodes()) - set(i_nodes) - set(vac_nodes_final))\n",
      "    r_nodes = vac_nodes_final\n",
      "    \n",
      "    # Initialize number of nodes in S, I, and R nodes, as well as time steps\n",
      "    num_s_nodes = [len(s_nodes)]\n",
      "    num_i_nodes = [len(i_nodes)]\n",
      "    num_r_nodes = [len(r_nodes)]\n",
      "    steps =range(1,num_time_steps)\n",
      "    \n",
      "    # Return list of S, R nodes, number of S, I, and R nodes, as well as time steps\n",
      "    return s_nodes, r_nodes, num_s_nodes, num_i_nodes, num_r_nodes, steps"
     ],
     "language": "python",
     "metadata": {},
     "outputs": [],
     "prompt_number": 8
    },
    {
     "cell_type": "code",
     "collapsed": false,
     "input": [
      "# Simulate function\n",
      "def simulate(G, p_si , p_ir , p_vac, frac_vac, init_infs, num_time_steps, sheep_nodes, celeb_nodes):\n",
      "    # Initialize variables\n",
      "    i_nodes = init_i_nodes(init_infs)\n",
      "    vac_nodes_final = init_vac_nodes(i_nodes, sheep_nodes, celeb_nodes, G, p_vac, frac_vac)\n",
      "    (s_nodes, r_nodes, num_s_nodes, num_i_nodes, num_r_nodes, steps) = init_sr_nodes(G, i_nodes, vac_nodes_final, num_time_steps)\n",
      "    \n",
      "    # Simulate epidemic for each time step\n",
      "    for step in steps:\n",
      "        recover(i_nodes,r_nodes,p_ir)\n",
      "        spread(G, s_nodes , i_nodes , p_si)\n",
      "        \n",
      "        # Add to list of number of S, I, and R nodes\n",
      "        num_s_nodes.append(len(s_nodes))\n",
      "        num_i_nodes.append(len(i_nodes))\n",
      "        num_r_nodes.append(len(r_nodes))\n",
      "    \n",
      "    # Return number of S,I,R nodes as a function of time\n",
      "    return num_s_nodes, num_i_nodes, num_r_nodes\n"
     ],
     "language": "python",
     "metadata": {},
     "outputs": [],
     "prompt_number": 9
    },
    {
     "cell_type": "code",
     "collapsed": false,
     "input": [
      "# Plot the number of S, I, and R nodes as a function of time.\n",
      "def make_plot(num_nodes , num_s_nodes , num_i_nodes , num_r_nodes , num_time_steps):\n",
      "    h1 , = plt.plot(np.array( num_s_nodes ) / float( num_nodes ), \"y-\")\n",
      "    h2 , = plt.plot(np.array( num_i_nodes ) / float( num_nodes ), \"r-\")\n",
      "    h3 , = plt.plot(np.array( num_r_nodes ) / float( num_nodes ), \"g-\")\n",
      "    plt.xlabel(\"Time\")\n",
      "    plt.ylabel(\"Fraction of S, I, and R nodes\")\n",
      "    plt.legend ([h1 ,h2 ,h3], [\"S nodes\",\"I nodes\",\"R nodes\"], loc=\"center left\")\n",
      "    plt.xlim ([0, num_time_steps ])\n",
      "    plt.ylim ([ -0.02 , 1.02])"
     ],
     "language": "python",
     "metadata": {},
     "outputs": [],
     "prompt_number": 10
    },
    {
     "cell_type": "code",
     "collapsed": false,
     "input": [
      "# Simulate\n",
      "G = nx.erdos_renyi_graph(1000, 0.01, seed = 2468)\n",
      "\n",
      "init_infs = [6, 263, 270, 604, 640, 645, 704, 850, 965, 994]\n",
      "p_si = 0.25\n",
      "p_ir = 0.12\n",
      "\n",
      "num_time_steps = 100\n",
      "frac_vac = 0\n",
      "p_vac = 0\n",
      "\n",
      "sheep_nodes = []\n",
      "celeb_nodes = []\n",
      "\n",
      "(num_s_nodes , num_i_nodes , num_r_nodes) = simulate(G, p_si, p_ir, p_vac, frac_vac,init_infs, num_time_steps, sheep_nodes,celeb_nodes)\n",
      "make_plot(G.number_of_nodes(), num_s_nodes , num_i_nodes , num_r_nodes , num_time_steps)\n",
      "print mean(num_i_nodes)"
     ],
     "language": "python",
     "metadata": {},
     "outputs": [
      {
       "output_type": "stream",
       "stream": "stdout",
       "text": [
        "32.37\n"
       ]
      },
      {
       "metadata": {},
       "output_type": "display_data",
       "png": "[encoded data removed]",
       "text": [
        "<matplotlib.figure.Figure at 0x783a0f0>"
       ]
      }
     ],
     "prompt_number": 11
    },
    {
     "cell_type": "heading",
     "level": 4,
     "metadata": {},
     "source": [
      "Question (c)"
     ]
    },
    {
     "cell_type": "markdown",
     "metadata": {},
     "source": [
      "There is currently enough vaccine supply to vaccinate 25% of the population and this can be done immediately, i.e., the vaccines can be distributed and administered right away without any delay. The probability that the vaccine works is 0.9 (given by p_vac below). Further, the people to be vaccinated are a simple random sample of 250 individuals from the underlying population of 1,000.\n",
      "\n",
      "Repeating the simulation 100 times, determine the mean number of individuals infected in the course of the epidemic (including the initial infections) given that 25% of the population has received vaccine."
     ]
    },
    {
     "cell_type": "code",
     "collapsed": false,
     "input": [
      "# Simulate, with vaccination\n",
      "G = nx.erdos_renyi_graph(1000, 0.01, seed = 2468)\n",
      "\n",
      "init_infs = [6, 263, 270, 604, 640, 645, 704, 850, 965, 994]\n",
      "p_si = 0.25\n",
      "p_ir = 0.12\n",
      "\n",
      "num_time_steps = 100\n",
      "frac_vac = 0.25\n",
      "p_vac = 0.9\n",
      "\n",
      "sheep_nodes = []\n",
      "celeb_nodes = []\n",
      "\n",
      "(num_s_nodes , num_i_nodes , num_r_nodes) = simulate(G, p_si, p_ir, p_vac, frac_vac,init_infs, num_time_steps, sheep_nodes,celeb_nodes)\n",
      "make_plot(G.number_of_nodes(), num_s_nodes , num_i_nodes , num_r_nodes , num_time_steps)\n",
      "print mean(num_i_nodes)"
     ],
     "language": "python",
     "metadata": {},
     "outputs": [
      {
       "output_type": "stream",
       "stream": "stdout",
       "text": [
        "16.96\n"
       ]
      },
      {
       "metadata": {},
       "output_type": "display_data",
       "png": "[encoded data removed]",
       "text": [
        "<matplotlib.figure.Figure at 0x7c08da0>"
       ]
      }
     ],
     "prompt_number": 12
    },
    {
     "cell_type": "heading",
     "level": 4,
     "metadata": {},
     "source": [
      "Question (d)"
     ]
    },
    {
     "cell_type": "markdown",
     "metadata": {},
     "source": [
      "Vaccine resistance is spreading online! Due to an unexpected logistical delay with vaccines, harmful online rumors get to run rampant for 4 full weeks (28 simulation time steps) until the logistical issue gets under control at which point the vaccine can again be delivered immediately at the end of day 28. According to the rumors, the vaccine doesn't work and may in fact cause severe illness. Based on prior research, it is known that the rumour behaves like an SI process on the online social network $H$ with transmission probability 0.40 (p_rumor in the code below). To make matters worse, the rumor is initially spread by a small group of people who happen to have a large online following (celebs in the code below). People who have bought into the pseudo-science spread by the rumor will receive their oral vaccine just like anyone else but, instead of taking it, they simply discard the vaccine. The same applies to the online charlatans in case they happen to be chosen to receive the vaccine. Finally, if a person who is already infected happens to get the vaccine, the vaccine will be wasted.\n",
      "\n",
      "Repeating the simulation 100 times, determine the new mean number of individuals infected in the course of the epidemic (including the initial infections) given that the rumor gets to circulate for  four full weeks before 25% of the population can be vaccinated."
     ]
    },
    {
     "cell_type": "code",
     "collapsed": false,
     "input": [
      "celebs = [11, 13, 10, 15, 14, 16, 18, 3, 17, 19, 22, 20, 12, 25, 26, 5, 24, 27, 21, 0]\n",
      "p_rumor = 0.40"
     ],
     "language": "python",
     "metadata": {},
     "outputs": [],
     "prompt_number": 13
    },
    {
     "cell_type": "code",
     "collapsed": false,
     "input": [
      "#Rumor spreading function- carry out the S -> I spreading process for one time step.\n",
      "def spread_rumor(G, s_nodes , i_nodes , p):\n",
      "    \n",
      "    # Initialize new_infections variable\n",
      "    new_infections = []\n",
      "    \n",
      "    # Determine with probability p whether s_node, will become i_node\n",
      "    for node in i_nodes:\n",
      "        neighbors = G.neighbors(node)\n",
      "        if G.degree(node) > 0:\n",
      "            neighbor = random.choice(neighbors)\n",
      "            if (neighbor in s_nodes) and (random.random() < p) and (neighbor not in new_infections):\n",
      "                new_infections.append(neighbor)\n",
      "    \n",
      "    # Return new_infections    \n",
      "    return new_infections"
     ],
     "language": "python",
     "metadata": {},
     "outputs": [],
     "prompt_number": 14
    },
    {
     "cell_type": "code",
     "collapsed": false,
     "input": [
      "# Initialize variables function- rumor variables\n",
      "def init_rumor_nodes(G, celebs):\n",
      "    # Initialize rumor spreading variables\n",
      "    celeb_nodes = celebs\n",
      "    available_nodes = list(set(G.nodes()) - set(celeb_nodes))\n",
      "    vac_nodes_final = []\n",
      "    \n",
      "    # Return list of celebrities, available people, and the successfully vaccinated people\n",
      "    return celeb_nodes, available_nodes, vac_nodes_final"
     ],
     "language": "python",
     "metadata": {},
     "outputs": [],
     "prompt_number": 15
    },
    {
     "cell_type": "code",
     "collapsed": false,
     "input": [
      "# Simulate function- incorporates rumor spreading\n",
      "def simulate_partD(G, p_si , p_ir, p_rumor , p_vac, frac_vac, init_infs, celebs, num_time_steps, delay):\n",
      "    \n",
      "    # Initialize rumor spreading variables\n",
      "    (celeb_nodes, available_nodes, vac_nodes_final) = init_rumor_nodes(G, celebs)\n",
      "    \n",
      "    # Initialize variables- S, I, and R nodes\n",
      "    i_nodes = init_i_nodes(init_infs)\n",
      "    (s_nodes, r_nodes, num_s_nodes, num_i_nodes, num_r_nodes, steps) = init_sr_nodes(G, i_nodes, vac_nodes_final, num_time_steps)\n",
      "    \n",
      "    # Simulate epidemic for each time step, 1 to 28\n",
      "    for step in range(1,28):\n",
      "        sheep_nodes = spread_rumor(G, available_nodes , celeb_nodes , p_rumor)\n",
      "        recover(i_nodes,r_nodes,p_ir)\n",
      "        spread(G,s_nodes, i_nodes, p_si)\n",
      "\n",
      "        # add to list of number of S, I, and R nodes\n",
      "        num_s_nodes.append(len(s_nodes))\n",
      "        num_i_nodes.append(len(i_nodes))\n",
      "        num_r_nodes.append(len(r_nodes))\n",
      "    \n",
      "    # Initialize variables- vaccinated nodes\n",
      "    vac_nodes_final = init_vac_nodes(i_nodes, sheep_nodes, celeb_nodes, G, p_vac, frac_vac)\n",
      "\n",
      "    # Update S, R node variables\n",
      "    s_nodes = list(set(s_nodes) - set(vac_nodes_final))\n",
      "    r_nodes = vac_nodes_final\n",
      "        \n",
      "    # Simulate epidemic for each time step, 29 to end\n",
      "    for step in range(28,num_time_steps):\n",
      "        recover(i_nodes,r_nodes,p_ir)\n",
      "        spread(G, s_nodes , i_nodes , p_si)\n",
      "        \n",
      "        # Add to list of number of S, I, and R nodes\n",
      "        num_s_nodes.append(len(s_nodes))\n",
      "        num_i_nodes.append(len(i_nodes))\n",
      "        num_r_nodes.append(len(r_nodes))\n",
      "        \n",
      "    # Return number of S,I,R nodes as a function of time\n",
      "    return num_s_nodes, num_i_nodes, num_r_nodes"
     ],
     "language": "python",
     "metadata": {},
     "outputs": [],
     "prompt_number": 16
    },
    {
     "cell_type": "code",
     "collapsed": false,
     "input": [
      "# Simulate- with vaccination and rumor spreading\n",
      "H = nx.barabasi_albert_graph(1000, 10, seed = 2468)\n",
      "\n",
      "init_infs = [6, 263, 270, 604, 640, 645, 704, 850, 965, 994]\n",
      "p_si = 0.25\n",
      "p_ir = 0.12\n",
      "\n",
      "num_time_steps = 100\n",
      "frac_vac = 0.25\n",
      "p_vac = 0.9\n",
      "\n",
      "celebs = [11, 13, 10, 15, 14, 16, 18, 3, 17, 19, 22, 20, 12, 25, 26, 5, 24, 27, 21, 0]\n",
      "p_rumor = 0.40\n",
      "\n",
      "delay = 28\n",
      "\n",
      "(num_s_nodes , num_i_nodes, num_r_nodes) = \\\n",
      "simulate_partD(H, p_si, p_ir, p_rumor, p_vac, frac_vac,init_infs, celebs, num_time_steps, delay)\n",
      "make_plot(H.number_of_nodes(), num_s_nodes , num_i_nodes , num_r_nodes, num_time_steps)\n",
      "print mean(num_i_nodes)"
     ],
     "language": "python",
     "metadata": {},
     "outputs": [
      {
       "output_type": "stream",
       "stream": "stdout",
       "text": [
        "12.12\n"
       ]
      },
      {
       "metadata": {},
       "output_type": "display_data",
       "png": "[encoded data removed]",
       "text": [
        "<matplotlib.figure.Figure at 0x7c13a58>"
       ]
      }
     ],
     "prompt_number": 17
    },
    {
     "cell_type": "heading",
     "level": 4,
     "metadata": {},
     "source": [
      "Question (e)"
     ]
    },
    {
     "cell_type": "markdown",
     "metadata": {},
     "source": [
      "The 4-week delay with vaccines due to the above logistical issue can be harnessed to develop a more sophisticated sampling scheme of subjects. Instead of vaccines being targeted at a random sample of 250 individuals, an alternative approach is used as follows: (1) A sample of 250 individuals are chosen uniformly at random (forming a simple random sample); (2) Each individual is asked to nominate one of their friends at random in the contact network $G$ and everyone complies fully given the severity of the epidemic; (3) These randomly chosen individuals are vaccinated. Because vaccines cannot be wasted, if the same person is nominated at random by two or more individuals in step (1), a replenishment sample is drawn until 250 unique individuals are selected to receive the vaccine.\n",
      "\n",
      "Repeating the simulation 100 times, determine the new mean number of individuals infected in the course of the epidemic (including the initial infections) given that the rumor gets to circulate for  four full weeks before 25% of the population can be vaccinated using this alternative vaccination campaign."
     ]
    },
    {
     "cell_type": "code",
     "collapsed": false,
     "input": [
      "# Initialize variables- vaccinated nodes with more sophisticated sampling\n",
      "def init_vac_nodes_partE(i_nodes, sheep_nodes, celeb_nodes, G, p_vac, frac_vac):\n",
      "    # Determine number of vaccinated nodes\n",
      "    num_vac_nodes = int(floor(frac_vac * G.number_of_nodes()))\n",
      "    vac_nodes_init = random.sample(G.nodes(),num_vac_nodes)\n",
      "    vac_nodes_final = []\n",
      "    \n",
      "    # Determine number of successful vaccinated nodes\n",
      "    while len(vac_nodes_final) < 250:\n",
      "        for node in vac_nodes_init:\n",
      "            neighbors = G.neighbors(node)\n",
      "            neighbor = random.choice(neighbors)\n",
      "            if random.random()<p_vac and node not in i_nodes and node not in sheep_nodes and node not in celeb_nodes:\n",
      "                vac_nodes_final.append(neighbor)\n",
      "        vac_nodes_final = list(set(vac_nodes_final))\n",
      "    \n",
      "    # Return list of successfully vaccinated people\n",
      "    return vac_nodes_final"
     ],
     "language": "python",
     "metadata": {},
     "outputs": [],
     "prompt_number": 18
    },
    {
     "cell_type": "code",
     "collapsed": false,
     "input": [
      "# Simulate an epidemic- changed initializing vaccination function to that specified for part E\n",
      "def simulate_partE(G, p_si , p_ir, p_rumor , p_vac, frac_vac, init_infs, celebs, num_time_steps, delay):\n",
      "    \n",
      "    # Initialize rumor spreading variables\n",
      "    (celeb_nodes, available_nodes, vac_nodes_final) = init_rumor_nodes(G, celebs)\n",
      "    \n",
      "    # Initialize variables- S, I, and R nodes\n",
      "    i_nodes = init_i_nodes(init_infs)\n",
      "    (s_nodes, r_nodes, num_s_nodes, num_i_nodes, num_r_nodes, steps) = init_sr_nodes(G, i_nodes, vac_nodes_final, num_time_steps)\n",
      "    \n",
      "    # Simulate epidemic for each time step, 1 to 28\n",
      "    for step in range(1,28):\n",
      "        sheep_nodes = spread_rumor(G, available_nodes , celeb_nodes , p_rumor)\n",
      "        recover(i_nodes,r_nodes,p_ir)\n",
      "        spread(G,s_nodes, i_nodes, p_si)\n",
      "\n",
      "        # Add to list of number of S, I, and R nodes\n",
      "        num_s_nodes.append(len(s_nodes))\n",
      "        num_i_nodes.append(len(i_nodes))\n",
      "        num_r_nodes.append(len(r_nodes))\n",
      "    \n",
      "    # Initialize variables- vaccinated nodes\n",
      "    vac_nodes_final = init_vac_nodes_partE(i_nodes, sheep_nodes, celeb_nodes, G, p_vac, frac_vac)\n",
      "\n",
      "    # Update S, R node variables\n",
      "    s_nodes = list(set(s_nodes) - set(vac_nodes_final))\n",
      "    r_nodes = vac_nodes_final\n",
      "        \n",
      "    # Simulate epidemic for each time step, 29 to end\n",
      "    for step in range(28,num_time_steps):\n",
      "        recover(i_nodes,r_nodes,p_ir)\n",
      "        spread(G, s_nodes , i_nodes , p_si)\n",
      "        \n",
      "        # Add to list of number of S, I, and R nodes\n",
      "        num_s_nodes.append(len(s_nodes))\n",
      "        num_i_nodes.append(len(i_nodes))\n",
      "        num_r_nodes.append(len(r_nodes))\n",
      "        \n",
      "    # Return number of S,I,R nodes as a function of time\n",
      "    return num_s_nodes, num_i_nodes, num_r_nodes"
     ],
     "language": "python",
     "metadata": {},
     "outputs": [],
     "prompt_number": 19
    },
    {
     "cell_type": "code",
     "collapsed": false,
     "input": [
      "# Simulate, with sophisticated vaccination population sampling, vaccination, and rumor spreading\n",
      "H = nx.barabasi_albert_graph(1000, 10, seed = 2468)\n",
      "\n",
      "init_infs = [6, 263, 270, 604, 640, 645, 704, 850, 965, 994]\n",
      "p_si = 0.25\n",
      "p_ir = 0.12\n",
      "\n",
      "num_time_steps = 100\n",
      "frac_vac = 0.25\n",
      "p_vac = 0.9\n",
      "\n",
      "celebs = [11, 13, 10, 15, 14, 16, 18, 3, 17, 19, 22, 20, 12, 25, 26, 5, 24, 27, 21, 0]\n",
      "p_rumor = 0.40\n",
      "\n",
      "delay = 28\n",
      "\n",
      "(num_s_nodes , num_i_nodes, num_r_nodes) = \\\n",
      "simulate_partE(H, p_si, p_ir, p_rumor, p_vac, frac_vac,init_infs, celebs, num_time_steps, delay)\n",
      "make_plot(H.number_of_nodes(), num_s_nodes , num_i_nodes , num_r_nodes, num_time_steps)\n",
      "print mean(num_i_nodes)"
     ],
     "language": "python",
     "metadata": {},
     "outputs": [
      {
       "output_type": "stream",
       "stream": "stdout",
       "text": [
        "12.34\n"
       ]
      },
      {
       "metadata": {},
       "output_type": "display_data",
       "png": "[encoded data removed]",
       "text": [
        "<matplotlib.figure.Figure at 0x7c27710>"
       ]
      }
     ],
     "prompt_number": 20
    },
    {
     "cell_type": "heading",
     "level": 4,
     "metadata": {},
     "source": [
      "Question (f)"
     ]
    },
    {
     "cell_type": "markdown",
     "metadata": {},
     "source": [
      "Summarize and discuss your findings from Questions (a) \u2013 (e) below. Describe the rationale behind the approach in Question (e) and why, most likely, it's payoff is not as great as expected. Discuss any approximations or assumptions you may have made to tackle this assignment. As part of the summary, incorporate a plot that shows the proportion of S, I, and R nodes as a function of time in all 100 simulations in Question (b), i.e., this plot should contain 100 S-curves, 100 I-curves, and 100-R curves."
     ]
    },
    {
     "cell_type": "markdown",
     "metadata": {},
     "source": [
      "TBD"
     ]
    }
   ],
   "metadata": {}
  }
 ]
}
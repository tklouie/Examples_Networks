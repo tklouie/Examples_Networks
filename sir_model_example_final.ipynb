{
 "metadata": {
  "name": "sir_model_example_final.ipynb",
  "signature": "sha256:2eb5469d48a6d279bc180afcda21511efd48f9fbd85b03f582754bcf70e4e77b"
 },
 "nbformat": 3,
 "nbformat_minor": 0,
 "worksheets": [
  {
   "cells": [
    {
     "cell_type": "heading",
     "level": 1,
     "metadata": {},
     "source": [
      "Epidemic Spreading and Diffusion of Anti-Vaccine Sentiment"
     ]
    },
    {
     "cell_type": "heading",
     "level": 4,
     "metadata": {},
     "source": [
      "Disclaimer: The following scenario is entirely fictious. Scenario created for final project of BIO 521 class at Harvard T.H. Chan School of Public Health, \"Introduction to Biological and Social Networks\"."
     ]
    },
    {
     "cell_type": "markdown",
     "metadata": {
      "slideshow": {
       "slide_type": "-"
      }
     },
     "source": [
      "A dangerous pathogen is circulating among the US general population. Fortunately, scientists have recently been able to develop a vaccine that is 90% effective, i.e., 90% of people who are vaccinated gain full immunity against the disease. Regardless of its ability to prevent the disease in 9 out of 10 people, a small number of ill-informed individuals have managed to convince the general public that the vaccine is not only ineffective, but also potentially harmful. This anti-vaccine meme has now gone viral on social media and, consequently, more and more people are foregoing the vaccine, thus risking infection.\n",
      "\n",
      "You have been tasked with investigating the situation as detailed below. Time is of the utmost importance, and your final report is expected.\n"
     ]
    },
    {
     "cell_type": "markdown",
     "metadata": {},
     "source": [
      "There are two processes unfolding simultaneously in this problem. The first process is the spread of the pathogen on a person-to-person contact network $G$, the second processs is the diffusion of an anti-vaccine sentiment on an online social network $H$. The structure of these two networks is distinct; although each consists of exactly the same set of nodes, the ties may or may not overlap. A distinguishing feature between these two networks is that while most people have more or less the same number of ties in their contact network $G$, the mean number of online contacts in network $H$ tends to be higher and has a fat-tailed distribution.\n",
      "\n",
      "Let's get started with the following code, i.e., make sure to run the following code before proceeding."
     ]
    },
    {
     "cell_type": "code",
     "collapsed": false,
     "input": [
      "# Import necessary modules, generate networks.\n",
      "\n",
      "import networkx as nx\n",
      "import random\n",
      "import numpy as np\n",
      "import matplotlib.pyplot as plt\n",
      "%matplotlib inline\n",
      "\n",
      "# Generate the contact graph.\n",
      "G = nx.erdos_renyi_graph(1000, 0.01, seed = 2468)\n",
      "\n",
      "\n",
      "# Generate the online graph.\n",
      "H = nx.barabasi_albert_graph(1000, 10, seed = 2468)"
     ],
     "language": "python",
     "metadata": {},
     "outputs": [],
     "prompt_number": 1
    },
    {
     "cell_type": "heading",
     "level": 3,
     "metadata": {},
     "source": [
      "Question (a)"
     ]
    },
    {
     "cell_type": "markdown",
     "metadata": {},
     "source": [
      "Compute the minimum degree, maximum degree, and mean degree of the contact network $G$ and of the online social network $H$. Describe how these two graphs are generated and what are some of the salient features of the graphs. In particular, describe the following aspects of the two networks: static vs. growing network, single vs. multiple components, how edges are placed in the network, degree distribution, and whether the networks are so-called small-worlds. One paragraph per network is sufficient."
     ]
    },
    {
     "cell_type": "code",
     "collapsed": false,
     "input": [
      "# Note: see bottom of notebook for answer to Question a\n",
      "\n",
      "# Minimum, maximum, and mean degree of contact network G\n",
      "# Initialize minimum and maximum degree of contact network G\n",
      "degree_min_G = G.degree(0)\n",
      "degree_max_G = G.degree(0)\n",
      "\n",
      "# Find minimum and maximum degrees of contact network G\n",
      "for node in G.nodes():\n",
      "    if G.degree(node) < degree_min_G:\n",
      "        degree_min_G = G.degree(node)\n",
      "    if G.degree(node) > degree_max_G:\n",
      "        degree_max_G = G.degree(node)\n",
      "\n",
      "# Find mean degree of contact network G\n",
      "degree_mean_G = float(G.number_of_edges())/G.number_of_nodes()\n",
      "\n",
      "# Minimum, maximum, and mean degree of online social network H\n",
      "# Initialize minimum and maximum degree of online social network H\n",
      "degree_min_H = H.degree(0)\n",
      "degree_max_H = H.degree(0)\n",
      "\n",
      "# Find minimum and maximum degrees of online social network H\n",
      "for node in H.nodes():\n",
      "    if H.degree(node) < degree_min_H:\n",
      "        degree_min_H = H.degree(node)\n",
      "    if H.degree(node) > degree_max_H:\n",
      "        degree_max_H = H.degree(node)\n",
      "\n",
      "# Find mean degree of online social network H\n",
      "degree_mean_H = float(H.number_of_edges())/H.number_of_nodes()\n",
      "\n",
      "# Print min, max, and mean degrees of networks G and H\n",
      "print degree_min_G, degree_max_G, degree_mean_G, degree_min_H, degree_max_H, degree_mean_H\n"
     ],
     "language": "python",
     "metadata": {},
     "outputs": [
      {
       "output_type": "stream",
       "stream": "stdout",
       "text": [
        "2 23 4.968 10 150 9.9\n"
       ]
      }
     ],
     "prompt_number": 2
    },
    {
     "cell_type": "heading",
     "level": 4,
     "metadata": {},
     "source": [
      "Question (b)"
     ]
    },
    {
     "cell_type": "markdown",
     "metadata": {},
     "source": [
      "Simulate the epidemic spreading process in the absence of the vaccine on the contact network $G$ using a network based SIR model. \n",
      "\n",
      "The S to I transition has been determined to happen with probability 0.25 over a simulation time step (1 day) and the I to R transition with probability 0.12 over a simulation time step. Initially 10 individuals are infected given by init_infs in the code below; the rest of the population remains susceptible.\n",
      "\n",
      "Note that init_infs is defined as a list. List are mutable, so if you pass a list to a function, the function will modify the list itself, not its copy. If your function modifies the list, you need to be careful when calling the function repeatedly.\n",
      "\n",
      "Repeating the simulation 100 times, determine the mean number of individuals infected in the course of the epidemic (including the initial infections) if the epidemic is let to run without any intervention."
     ]
    },
    {
     "cell_type": "code",
     "collapsed": false,
     "input": [
      "init_infs = [6, 263, 270, 604, 640, 645, 704, 850, 965, 994]\n",
      "p_si = 0.25\n",
      "p_ir = 0.12"
     ],
     "language": "python",
     "metadata": {},
     "outputs": [],
     "prompt_number": 3
    },
    {
     "cell_type": "code",
     "collapsed": false,
     "input": [
      "# Carry out the I -> R recovery process for one time step.\n",
      "def recover(i_nodes , r_nodes , p):\n",
      "    # Initialize new_recoveries variable\n",
      "    new_recoveries = []\n",
      "    \n",
      "    # Determine with probability p whether i_node will turn into r_node\n",
      "    for node in i_nodes:\n",
      "        if random.random() < p:\n",
      "            new_recoveries.append(node)\n",
      "    \n",
      "    # Update i_nodes and r_nodes\n",
      "    for node in new_recoveries:\n",
      "        i_nodes.remove(node)\n",
      "        r_nodes.append(node)\n",
      "    \n",
      "    # Return new_recoveries\n",
      "    return new_recoveries"
     ],
     "language": "python",
     "metadata": {},
     "outputs": [],
     "prompt_number": 4
    },
    {
     "cell_type": "code",
     "collapsed": false,
     "input": [
      "#Carry out the S -> I spreading process for one time step.\n",
      "def spread(G, s_nodes , i_nodes , p):\n",
      "    \n",
      "    # Initialize new_infections variable\n",
      "    new_infections = []\n",
      "    \n",
      "    # Determine with probability p whether s_node, will become i_node\n",
      "    for node in i_nodes:\n",
      "        neighbors = G.neighbors(node)\n",
      "        if G.degree(node) > 0:\n",
      "            neighbor = random.choice(neighbors)\n",
      "            if (neighbor in s_nodes) and (random.random() < p) and (neighbor not in new_infections):\n",
      "                new_infections.append(neighbor)\n",
      "    \n",
      "    # Update i_nodes and s_nodes\n",
      "    for node in new_infections:\n",
      "        i_nodes.append(node)\n",
      "        s_nodes.remove(node)\n",
      "    \n",
      "    # Return new_infections    \n",
      "    return new_infections"
     ],
     "language": "python",
     "metadata": {},
     "outputs": [],
     "prompt_number": 5
    },
    {
     "cell_type": "code",
     "collapsed": false,
     "input": [
      "# Initialize variables- vaccinated nodes\n",
      "def init_vac_nodes(i_nodes, sheep_nodes, celeb_nodes, G, p_vac, frac_vac):\n",
      "    # Determine number of vaccinated nodes\n",
      "    num_vac_nodes = int(floor(frac_vac * G.number_of_nodes()))\n",
      "    vac_nodes_init = random.sample(G.nodes(),num_vac_nodes)\n",
      "    vac_nodes_final = []\n",
      "    \n",
      "    # Determine number of successful vaccinated nodes\n",
      "    for node in vac_nodes_init:\n",
      "        if random.random()<p_vac and node not in i_nodes and node not in sheep_nodes and node not in celeb_nodes:\n",
      "            vac_nodes_final.append(node)\n",
      "    return vac_nodes_final"
     ],
     "language": "python",
     "metadata": {},
     "outputs": [],
     "prompt_number": 6
    },
    {
     "cell_type": "code",
     "collapsed": false,
     "input": [
      "# Initialize variables- susceptible, recovered nodes, number of time steps\n",
      "# NOTE: I put the nodes that were successfully vaccinated (vac_nodes_final) into recovered nodes\n",
      "def init_sr_nodes(G, i_nodes, vac_nodes_final,num_time_steps):\n",
      "    # Initialize S and R nodes\n",
      "    s_nodes = list(set(G.nodes()) - set(i_nodes) - set(vac_nodes_final))\n",
      "    r_nodes = vac_nodes_final\n",
      "    \n",
      "    # Initialize number of nodes in S, I, and R nodes\n",
      "    num_s_nodes = [len(s_nodes)]\n",
      "    num_i_nodes = [len(i_nodes)]\n",
      "    num_r_nodes = [len(r_nodes)]\n",
      "    steps =range(1,num_time_steps)\n",
      "    return s_nodes, r_nodes, num_s_nodes, num_i_nodes, num_r_nodes, steps"
     ],
     "language": "python",
     "metadata": {},
     "outputs": [],
     "prompt_number": 7
    },
    {
     "cell_type": "code",
     "collapsed": false,
     "input": [
      "# Simulate function\n",
      "def simulate(G, p_si , p_ir , p_vac, frac_vac, init_infs, num_time_steps, sheep_nodes, celeb_nodes):\n",
      "    \n",
      "    # Initialize variables\n",
      "    i_nodes = init_infs\n",
      "    vac_nodes_final = []\n",
      "    vac_nodes_final = init_vac_nodes(i_nodes, sheep_nodes, celeb_nodes, G, p_vac, frac_vac)\n",
      "    (s_nodes, r_nodes, num_s_nodes, num_i_nodes, num_r_nodes, steps) = init_sr_nodes(G, i_nodes, vac_nodes_final, num_time_steps)     \n",
      "    len_vac_nodes_final = len(vac_nodes_final)\n",
      "    \n",
      "    # Simulate epidemic for each time step\n",
      "    for step in steps:\n",
      "        recover(i_nodes,r_nodes,p_ir)\n",
      "        spread(G, s_nodes , i_nodes , p_si)\n",
      "        \n",
      "        # Add to list of number of S, I, and R nodes\n",
      "        num_s_nodes.append(len(s_nodes))\n",
      "        num_i_nodes.append(len(i_nodes))\n",
      "        num_r_nodes.append(len(r_nodes))\n",
      "    \n",
      "    # Return num_s_nodes, num_i_nodes, num_r_nodes, and length of final vaccination list\n",
      "    return num_s_nodes, num_i_nodes, num_r_nodes, len_vac_nodes_final\n"
     ],
     "language": "python",
     "metadata": {},
     "outputs": [],
     "prompt_number": 8
    },
    {
     "cell_type": "code",
     "collapsed": false,
     "input": [
      "# Plot the number of S, I, and R nodes as a function of time.\n",
      "def make_plot(num_nodes , num_s_nodes , num_i_nodes , num_r_nodes , num_time_steps):\n",
      "    h1 , = plt.plot(np.array( num_s_nodes ) / float( num_nodes ), \"y-\")\n",
      "    h2 , = plt.plot(np.array( num_i_nodes ) / float( num_nodes ), \"r-\")\n",
      "    h3 , = plt.plot(np.array( num_r_nodes ) / float( num_nodes ), \"g-\")\n",
      "    plt.xlabel(\"Time\")\n",
      "    plt.ylabel(\"Fraction of S, I, and R nodes\")\n",
      "    plt.legend ([h1 ,h2 ,h3], [\"S nodes\",\"I nodes\",\"R nodes\"], loc=\"center left\")\n",
      "    plt.xlim ([0, num_time_steps ])\n",
      "    plt.ylim ([ -0.02 , 1.02])"
     ],
     "language": "python",
     "metadata": {},
     "outputs": [],
     "prompt_number": 9
    },
    {
     "cell_type": "code",
     "collapsed": false,
     "input": [
      "# Simulate\n",
      "\n",
      "num_simulations = 100\n",
      "mean_i_nodes = []\n",
      "\n",
      "for k in range(0,num_simulations):\n",
      "    G = nx.erdos_renyi_graph(1000, 0.01)\n",
      "    init_infs = [6, 263, 270, 604, 640, 645, 704, 850, 965, 994]\n",
      "    p_si = 0.25\n",
      "    p_ir = 0.12\n",
      "    num_time_steps = 200\n",
      "    frac_vac = 0\n",
      "    p_vac = 0\n",
      "    sheep_nodes = []\n",
      "    celeb_nodes = []\n",
      "    \n",
      "    num_s_nodes = []\n",
      "    num_i_nodes = []\n",
      "    num_r_nodes = []\n",
      "    (num_s_nodes, num_i_nodes, num_r_nodes, num_same) = simulate(G, p_si, p_ir, p_vac, frac_vac,init_infs, num_time_steps, sheep_nodes,celeb_nodes)\n",
      "    #make_plot(G.number_of_nodes(), num_s_nodes , num_i_nodes , num_r_nodes , num_time_steps)\n",
      "    mean_i_nodes.append(num_r_nodes[-1]-num_same)\n",
      "print mean(mean_i_nodes)"
     ],
     "language": "python",
     "metadata": {},
     "outputs": [
      {
       "output_type": "stream",
       "stream": "stdout",
       "text": [
        "528.83\n"
       ]
      }
     ],
     "prompt_number": 10
    },
    {
     "cell_type": "heading",
     "level": 4,
     "metadata": {},
     "source": [
      "Question (c)"
     ]
    },
    {
     "cell_type": "markdown",
     "metadata": {},
     "source": [
      "There is currently enough vaccine supply to vaccinate 25% of the population and this can be done immediately, i.e., the vaccines can be distributed and administered right away without any delay. The probability that the vaccine works is 0.9 (given by p_vac below). Further, the people to be vaccinated are a simple random sample of 250 individuals from the underlying population of 1,000.\n",
      "\n",
      "Repeating the simulation 100 times, determine the mean number of individuals infected in the course of the epidemic (including the initial infections) given that 25% of the population has received vaccine."
     ]
    },
    {
     "cell_type": "code",
     "collapsed": false,
     "input": [
      "# Simulate\n",
      "\n",
      "num_simulations = 100\n",
      "mean_i_nodes = []\n",
      "\n",
      "for k in range(0,num_simulations):\n",
      "    G = nx.erdos_renyi_graph(1000, 0.01)\n",
      "    init_infs = [6, 263, 270, 604, 640, 645, 704, 850, 965, 994]\n",
      "    p_si = 0.25\n",
      "    p_ir = 0.12\n",
      "    num_time_steps = 200\n",
      "    frac_vac = 0.25\n",
      "    p_vac = 0.9\n",
      "    sheep_nodes = []\n",
      "    celeb_nodes = []\n",
      "    \n",
      "    num_s_nodes = []\n",
      "    num_i_nodes = []\n",
      "    num_r_nodes = []\n",
      "    (num_s_nodes, num_i_nodes, num_r_nodes, num_same) = simulate(G, p_si, p_ir, p_vac, frac_vac,init_infs, num_time_steps, sheep_nodes,celeb_nodes)\n",
      "    #make_plot(G.number_of_nodes(), num_s_nodes , num_i_nodes , num_r_nodes , num_time_steps)\n",
      "    mean_i_nodes.append(num_r_nodes[-1]-num_same)\n",
      "print mean(mean_i_nodes)"
     ],
     "language": "python",
     "metadata": {},
     "outputs": [
      {
       "output_type": "stream",
       "stream": "stdout",
       "text": [
        "157.47\n"
       ]
      }
     ],
     "prompt_number": 11
    },
    {
     "cell_type": "heading",
     "level": 4,
     "metadata": {},
     "source": [
      "Question (d)"
     ]
    },
    {
     "cell_type": "markdown",
     "metadata": {},
     "source": [
      "Vaccine resistance is spreading online! Due to an unexpected logistical delay with vaccines, harmful online rumors get to run rampant for 4 full weeks (28 simulation time steps) until the logistical issue gets under control at which point the vaccine can again be delivered immediately at the end of day 28. According to the rumors, the vaccine doesn't work and may in fact cause severe illness. Based on prior research, it is known that the rumour behaves like an SI process on the online social network $H$ with transmission probability 0.40 (p_rumor in the code below). To make matters worse, the rumor is initially spread by a small group of people who happen to have a large online following (celebs in the code below). People who have bought into the pseudo-science spread by the rumor will receive their oral vaccine just like anyone else but, instead of taking it, they simply discard the vaccine. The same applies to the online charlatans in case they happen to be chosen to receive the vaccine. Finally, if a person who is already infected happens to get the vaccine, the vaccine will be wasted.\n",
      "\n",
      "Repeating the simulation 100 times, determine the new mean number of individuals infected in the course of the epidemic (including the initial infections) given that the rumor gets to circulate for  four full weeks before 25% of the population can be vaccinated."
     ]
    },
    {
     "cell_type": "code",
     "collapsed": false,
     "input": [
      "celebs = [11, 13, 10, 15, 14, 16, 18, 3, 17, 19, 22, 20, 12, 25, 26, 5, 24, 27, 21, 0]\n",
      "p_rumor = 0.40"
     ],
     "language": "python",
     "metadata": {},
     "outputs": [],
     "prompt_number": 12
    },
    {
     "cell_type": "code",
     "collapsed": false,
     "input": [
      "#Rumor spreading function- Carry out the S -> I spreading process for one time step.\n",
      "def spread_rumor(G, s_nodes , i_nodes , p):\n",
      "    \n",
      "    # Initialize new_infections variable\n",
      "    new_infections = []\n",
      "    \n",
      "    # Determine with probability p whether s_node, will become i_node\n",
      "    for node in i_nodes:\n",
      "        neighbors = G.neighbors(node)\n",
      "        if G.degree(node) > 0:\n",
      "            neighbor = random.choice(neighbors)\n",
      "            if (neighbor in s_nodes) and (random.random() < p) and (neighbor not in new_infections):\n",
      "                new_infections.append(neighbor)\n",
      "    \n",
      "    # Return new_infections    \n",
      "    return new_infections"
     ],
     "language": "python",
     "metadata": {},
     "outputs": [],
     "prompt_number": 13
    },
    {
     "cell_type": "code",
     "collapsed": false,
     "input": [
      "# Initialize rumor spreading variables\n",
      "def init_rumor_nodes(G, celebs):\n",
      "    celeb_nodes = celebs\n",
      "    available_nodes = list(set(G.nodes()) - set(celeb_nodes))\n",
      "    vac_nodes_final = []\n",
      "    return celeb_nodes, available_nodes, vac_nodes_final"
     ],
     "language": "python",
     "metadata": {},
     "outputs": [],
     "prompt_number": 14
    },
    {
     "cell_type": "code",
     "collapsed": false,
     "input": [
      "# Simulate an epidemic.\n",
      "def simulate_partD(G, H, p_si , p_ir, p_rumor , p_vac, frac_vac, init_infs, celebs, num_time_steps, delay):\n",
      "    \n",
      "    # Initialize rumor spreading variables\n",
      "    (celeb_nodes, available_nodes, vac_nodes_final) = init_rumor_nodes(H, celebs)\n",
      "    \n",
      "    # Initialize variables- S, I, and R nodes\n",
      "    i_nodes = init_infs\n",
      "    (s_nodes, r_nodes, num_s_nodes, num_i_nodes, num_r_nodes, steps) = init_sr_nodes(G, i_nodes, vac_nodes_final, num_time_steps)\n",
      "    \n",
      "    # Simulate epidemic for each time step, 1 to 28\n",
      "    for step in range(1,28):\n",
      "        sheep_nodes = spread_rumor(H, available_nodes , celeb_nodes , p_rumor)\n",
      "        recover(i_nodes,r_nodes,p_ir)\n",
      "        spread(G,s_nodes, i_nodes, p_si)\n",
      "\n",
      "        # Add to list of number of S, I, and R nodes\n",
      "        num_s_nodes.append(len(s_nodes))\n",
      "        num_i_nodes.append(len(i_nodes))\n",
      "        num_r_nodes.append(len(r_nodes))\n",
      "    \n",
      "    # Initialize variables- vaccinated nodes\n",
      "    vac_nodes_final = init_vac_nodes(i_nodes, sheep_nodes, celeb_nodes, G, p_vac, frac_vac)\n",
      "\n",
      "    # Find out which vaccinated nodes to remove from the S nodes list and add to the R nodes list\n",
      "    same=[]\n",
      "    for node in s_nodes:\n",
      "        for node2 in vac_nodes_final:\n",
      "            if node==node2:\n",
      "                same.append(node)\n",
      "    len_same = len(same)\n",
      "                   \n",
      "    # Update S, R node variables\n",
      "    s_nodes = list(set(s_nodes) - set(same))\n",
      "    r_nodes = list(set(r_nodes + same))\n",
      "    \n",
      "    # Simulate epidemic for each time step, 29 to end\n",
      "    for step in range(28,num_time_steps):\n",
      "        recover(i_nodes,r_nodes,p_ir)\n",
      "        spread(G, s_nodes , i_nodes , p_si)\n",
      "        \n",
      "        # add to list of number of S, I, and R nodes\n",
      "        num_s_nodes.append(len(s_nodes))\n",
      "        num_i_nodes.append(len(i_nodes))\n",
      "        num_r_nodes.append(len(r_nodes))\n",
      "        \n",
      "    # return num_s_nodes, num_i_nodes, num_r_nodes, and length of final vaccination list beyond those infected in the recovered list\n",
      "    return num_s_nodes, num_i_nodes, num_r_nodes, len_same"
     ],
     "language": "python",
     "metadata": {},
     "outputs": [],
     "prompt_number": 15
    },
    {
     "cell_type": "code",
     "collapsed": false,
     "input": [
      "# Simulate\n",
      "\n",
      "num_simulations = 100\n",
      "mean_i_nodes = []\n",
      "\n",
      "for k in range(0,num_simulations):\n",
      "    H = nx.barabasi_albert_graph(1000, 10)\n",
      "    init_infs = [6, 263, 270, 604, 640, 645, 704, 850, 965, 994]\n",
      "    p_si = 0.25\n",
      "    p_ir = 0.12\n",
      "    num_time_steps = 200\n",
      "    frac_vac = 0.25\n",
      "    p_vac = 0.9\n",
      "    celebs = [11, 13, 10, 15, 14, 16, 18, 3, 17, 19, 22, 20, 12, 25, 26, 5, 24, 27, 21, 0]\n",
      "    p_rumor = 0.40\n",
      "    delay = 28\n",
      "    \n",
      "    num_s_nodes = []\n",
      "    num_i_nodes = []\n",
      "    num_r_nodes = []\n",
      "    (num_s_nodes , num_i_nodes, num_r_nodes, num_same) = \\\n",
      "    simulate_partD(G, H, p_si, p_ir, p_rumor, p_vac, frac_vac,init_infs, celebs, num_time_steps, delay)\n",
      "    #make_plot(H.number_of_nodes(), num_s_nodes , num_i_nodes , num_r_nodes, num_time_steps)    \n",
      "    mean_i_nodes.append(num_r_nodes[-1]-num_same)\n",
      "    \n",
      "print mean(mean_i_nodes)"
     ],
     "language": "python",
     "metadata": {},
     "outputs": [
      {
       "output_type": "stream",
       "stream": "stdout",
       "text": [
        "280.64\n"
       ]
      }
     ],
     "prompt_number": 16
    },
    {
     "cell_type": "heading",
     "level": 4,
     "metadata": {},
     "source": [
      "Question (e)"
     ]
    },
    {
     "cell_type": "markdown",
     "metadata": {},
     "source": [
      "The 4-week delay with vaccines due to the above logistical issue can be harnessed to develop a more sophisticated sampling scheme of subjects. Instead of vaccines being targeted at a random sample of 250 individuals, an alternative approach is used as follows: (1) A sample of 250 individuals are chosen uniformly at random (forming a simple random sample); (2) Each individual is asked to nominate one of their friends at random in the contact network $G$ and everyone complies fully given the severity of the epidemic; (3) These randomly chosen individuals are vaccinated. Because vaccines cannot be wasted, if the same person is nominated at random by two or more individuals in step (1), a replenishment sample is drawn until 250 unique individuals are selected to receive the vaccine.\n",
      "\n",
      "Repeating the simulation 100 times, determine the new mean number of individuals infected in the course of the epidemic (including the initial infections) given that the rumor gets to circulate for  four full weeks before 25% of the population can be vaccinated using this alternative vaccination campaign."
     ]
    },
    {
     "cell_type": "code",
     "collapsed": false,
     "input": [
      "# Initialize variables- vaccinated nodes with more sophisticated sampling\n",
      "def init_vac_nodes_partE(i_nodes, sheep_nodes, celeb_nodes, G, p_vac, frac_vac):\n",
      "    # Determine number of vaccinated nodes\n",
      "    num_vac_nodes = int(floor(frac_vac * G.number_of_nodes()))\n",
      "    vac_nodes_init = random.sample(G.nodes(),num_vac_nodes)\n",
      "    vac_nodes_final = []\n",
      "    \n",
      "    # Determine number of successful vaccinated nodes\n",
      "    while len(vac_nodes_final) < num_vac_nodes:\n",
      "        for node in vac_nodes_init:\n",
      "            if len(vac_nodes_final) < num_vac_nodes:\n",
      "                neighbors = G.neighbors(node)\n",
      "                neighbor = random.choice(neighbors)\n",
      "                if random.random()<p_vac and node not in i_nodes and node not in sheep_nodes and node not in celeb_nodes:\n",
      "                    vac_nodes_final.append(neighbor)\n",
      "            else:\n",
      "                return vac_nodes_final\n",
      "            vac_nodes_final = list(set(vac_nodes_final))"
     ],
     "language": "python",
     "metadata": {},
     "outputs": [],
     "prompt_number": 17
    },
    {
     "cell_type": "code",
     "collapsed": false,
     "input": [
      "# Simulate an epidemic- changed initializing vaccination function to that specified for part E\n",
      "def simulate_partE(G, H, p_si , p_ir, p_rumor , p_vac, frac_vac, init_infs, celebs, num_time_steps, delay):\n",
      "    \n",
      "    # Initialize rumor spreading variables\n",
      "    (celeb_nodes, available_nodes, vac_nodes_final) = init_rumor_nodes(H, celebs)\n",
      "    \n",
      "    # Initialize variables- S, I, and R nodes\n",
      "    i_nodes = init_infs\n",
      "    (s_nodes, r_nodes, num_s_nodes, num_i_nodes, num_r_nodes, steps) = init_sr_nodes(G, i_nodes, vac_nodes_final, num_time_steps)\n",
      "    \n",
      "    # Simulate epidemic for each time step, 1 to 28\n",
      "    for step in range(1,28):\n",
      "        sheep_nodes = spread_rumor(H, available_nodes , celeb_nodes , p_rumor)\n",
      "        recover(i_nodes,r_nodes,p_ir)\n",
      "        spread(G,s_nodes, i_nodes, p_si)\n",
      "\n",
      "        # add to list of number of S, I, and R nodes\n",
      "        num_s_nodes.append(len(s_nodes))\n",
      "        num_i_nodes.append(len(i_nodes))\n",
      "        num_r_nodes.append(len(r_nodes))\n",
      "    \n",
      "    # Initialize variables- vaccinated nodes\n",
      "    vac_nodes_final = init_vac_nodes_partE(i_nodes, sheep_nodes, celeb_nodes, G, p_vac, frac_vac)\n",
      "                \n",
      "    # Find out which vaccinated nodes to remove from the S nodes list and add to the R nodes list\n",
      "    same=[]\n",
      "    for node in s_nodes:\n",
      "        for node2 in vac_nodes_final:\n",
      "            if node==node2:\n",
      "                same.append(node)\n",
      "\n",
      "    # Update S, R node variables\n",
      "    s_nodes = list(set(s_nodes) - set(same))\n",
      "    r_nodes = list(set(r_nodes + same))\n",
      "    \n",
      "    # Simulate epidemic for each time step, 29 to end\n",
      "    for step in range(28,num_time_steps):\n",
      "        recover(i_nodes,r_nodes,p_ir)\n",
      "        spread(G, s_nodes , i_nodes , p_si)\n",
      "        \n",
      "        # add to list of number of S, I, and R nodes\n",
      "        num_s_nodes.append(len(s_nodes))\n",
      "        num_i_nodes.append(len(i_nodes))\n",
      "        num_r_nodes.append(len(r_nodes))\n",
      "        \n",
      "    # return num_s_nodes, num_i_nodes, num_r_nodes, and length of final vaccination list beyond those infected in the recovered list\n",
      "    return num_s_nodes, num_i_nodes, num_r_nodes, len(same)"
     ],
     "language": "python",
     "metadata": {},
     "outputs": [],
     "prompt_number": 18
    },
    {
     "cell_type": "code",
     "collapsed": false,
     "input": [
      "# Simulate\n",
      "\n",
      "num_simulations = 100\n",
      "mean_i_nodes = []\n",
      "\n",
      "for k in range(0,num_simulations):\n",
      "    H = nx.barabasi_albert_graph(1000, 10)\n",
      "    init_infs = [6, 263, 270, 604, 640, 645, 704, 850, 965, 994]\n",
      "    p_si = 0.25\n",
      "    p_ir = 0.12\n",
      "    num_time_steps = 200\n",
      "    frac_vac = 0.25\n",
      "    p_vac = 0.9\n",
      "    celebs = [11, 13, 10, 15, 14, 16, 18, 3, 17, 19, 22, 20, 12, 25, 26, 5, 24, 27, 21, 0]\n",
      "    p_rumor = 0.40\n",
      "    delay = 28\n",
      "    \n",
      "    num_s_nodes = []\n",
      "    num_i_nodes = []\n",
      "    num_r_nodes = []\n",
      "    (num_s_nodes , num_i_nodes, num_r_nodes, num_same) = \\\n",
      "    simulate_partE(G, H, p_si, p_ir, p_rumor, p_vac, frac_vac,init_infs, celebs, num_time_steps, delay)\n",
      "    #make_plot(H.number_of_nodes(), num_s_nodes , num_i_nodes , num_r_nodes, num_time_steps)    \n",
      "    mean_i_nodes.append(num_r_nodes[-1]-num_same)\n",
      "    \n",
      "print mean(mean_i_nodes)"
     ],
     "language": "python",
     "metadata": {},
     "outputs": [
      {
       "output_type": "stream",
       "stream": "stdout",
       "text": [
        "256.11\n"
       ]
      }
     ],
     "prompt_number": 19
    },
    {
     "cell_type": "heading",
     "level": 4,
     "metadata": {},
     "source": [
      "Question (f)"
     ]
    },
    {
     "cell_type": "markdown",
     "metadata": {},
     "source": [
      "Summarize and discuss your findings from Questions (a) \u2013 (e) below. Describe the rationale behind the approach in Question (e) and why, most likely, it's payoff is not as great as expected. Discuss any approximations or assumptions you may have made to tackle this assignment. As part of the summary, incorporate a plot that shows the proportion of S, I, and R nodes as a function of time in all 100 simulations in Question (b), i.e., this plot should contain 100 S-curves, 100 I-curves, and 100-R curves."
     ]
    },
    {
     "cell_type": "markdown",
     "metadata": {},
     "source": [
      "Question (a)\n",
      "The minimum degree, maximum degree, and mean degree of the contact network $G$ is 2, 23, and 4.968, respectively. The minimum degree, maximum degree, and mean degree of the online social network $H$ is 10, 150, and 9.9, respectively.  \n",
      "\n",
      "Contact network $G$ is an Erdos-Renyi graph, which starts with a specified number of nodes (1000), and choose to create undirected edges between nodes independently with probability p (0.01) (i.e., going through each possible edge and choosing whether to create that edge or not as a Bernoulli trial with probability p). This network is static, as it sets the number of nodes in the network initially and then adds edges as described above. The average degree is p*(N-1), and the distributions for the number of edges, P(m), and vertex degree, P(k), become more concentrated around the ensemble average as N increases. The distribution for the vertex degree is a binomial distribution with size N-1 and probability p.  No vertex is far from the average in terms of its degree, and there is no correlation between the degrees of adjacent vertices, resulting in a less clustered graph, or that most people have similar numbers of ties in their contact network. Furthermore, there should be many smaller components compared to online social network $H$ and consequently a more sparsely connected, but bigger world.\n",
      "\n",
      "Online social network $H$ is a Barbarassi-Albert graph, which adds a new node at each time step, and each new node connects to the existing network with m undirected edges (10), and the attachment nodes are chosen in proportion to their degree, giving preferential attachment to nodes with higher degree. This network is growing, as at each time step it adds a new node to the network.  The average degree is specified and should approach m for large N, and the degree distribution asymptotically should follow a power law ~ $k^{-3}$. This distribution is a fat-tailed distribution, and thus has a higher average degree than the contact network $G$. Because there is preferential attachment, there is correlation between the degrees of adjacent vertices, resulting in a graph with fewer, larger components, and thus potentially multiple small worlds."
     ]
    },
    {
     "cell_type": "markdown",
     "metadata": {},
     "source": [
      "Question (b)\n",
      "\n",
      "In this question, I performed 100 simulations on the epidemic spreading process over 200 time steps (200 days) in the absence of the vaccine for 1000 people in the contact network $G$ using a network based SIR model, with SI transition probability 0.25 and IR transition probability 0.12 over a single time step, and initially 10 seed individuals infected, with the remaining population susceptible.  I assumed that 200 days would be sufficient time to reach steady state conditions for the susceptible, infected, and recovered populations, confirmed through plotting the curves (see bottom for graph).\n",
      "\n",
      "The mean number of individuals infected in the course of the epidemic (including the initial infections) if the epidemic is let to run without any intervention, is 528.83 people, or approximately 529 people, out of 1000 people in the contact network."
     ]
    },
    {
     "cell_type": "markdown",
     "metadata": {},
     "source": [
      "Question (c)\n",
      "\n",
      "In this question, I performed 100 simulations on the epidemic spreading process over 200 time steps (200 days) with immediate availability the vaccine for 1000 people in the contact network $G$ using a network based SIR model, with SI transition probability 0.25 and IR transition probability 0.12 over a single time step, initially 10 seed individuals infected, and 25% of the population receiving the 90% efficacious vaccine immediately, with the remaining population susceptible. I assume that the initially vaccinated individuals are considered recovered and thus place them in that part of the process.  I also assume that one randomly picks 250 individuals from the population to vaccinate, and the vaccine is wasted or not successful if the person is already infected (i.e., one of the initially infected people) or does not receive an efficacious vaccine (with 10% probability).\n",
      "\n",
      "The mean number of individuals infected in the course of the epidemic (including the initial infections) with vaccination, is 157.47 people, or approximately 158 people, out of 1000 people in the contact network, which is much smaller than the mean number calculated in question b, the scenario without the vaccine.  This result is due to the fact that up to 25% of the susceptible population are vaccinated immediately, leading to a smaller pool of people who can potentially be infected.  Thus, the vaccine, given the current assumptions, appears to be helpful in reducing the mean number of people infected."
     ]
    },
    {
     "cell_type": "markdown",
     "metadata": {},
     "source": [
      "Question (d)\n",
      "\n",
      "In this question, I performed 100 simulations on the epidemic spreading process over 200 time steps (200 days) with delayed availability the vaccine (after 28 days) for 1000 people in the contact network $G$ using a network based SIR model, with SI transition probability 0.25 and IR transition probability 0.12 over a single time step, initially 10 seed individuals infected, and 25% of the population receiving the 90% efficacious vaccine, with the remaining population susceptible. I assume that the initially vaccinated individuals are considered recovered and thus place them in that part of the process.  Furthermore, for the first 28 days, there was a harmful vaccine rumor spreading like an SI process on the online social network $H$ with transmission probability 0.40.  The celebrities who initially spread the rumor, as well as the \"sheep\" or people who bought into the rumor, would discard the vaccine if given, and those infected can be given the vaccine, would waste the vaccine.\n",
      "\n",
      "The mean number of individuals infected in the course of the epidemic (including the initial infections) if the epidemic is let to run without any intervention, is 280.64 people, or approximately 281 people, out of 1000 people in the contact network, which is smaller than the mean number calculated in question b, the scenario without the vaccine, but greater than the mean number calculated in question c, the scenario with the vaccine available immediately and no rumor spreading. This result is due to the fact that more people for the first 28 days are susceptible and thus have a probability of becoming infected.  Furthermore, the vaccine given after day 28 is wasted on some of the celebrities and \"sheep\" who bought into the anti-vaccine rumor.  However, even with the negative rumor spreading and the delayed vaccine delivery, this scenario is still better in terms of reducing the mean number of people infected compared with the scenario with no vaccine (question b)."
     ]
    },
    {
     "cell_type": "markdown",
     "metadata": {},
     "source": [
      "Question (e)\n",
      "\n",
      "In this question, I simulated the epidemic spreading process over 200 time steps (200 days) with delayed availability the vaccine (after 28 days) for 1000 people in the contact network $G$ using a network based SIR model, with SI transition probability 0.25 and IR transition probability 0.12 over a single time step, initially 10 seed individuals infected, and 25% of the population receiving the 90% efficacious vaccine, with the remaining population susceptible. I assume that the initially vaccinated individuals are considered recovered and thus place them in that part of the process.  Furthermore, for the first 28 days, there was a harmful vaccine rumor spreading like an SI process on the online social network $H$ with transmission probability 0.40.  The celebrities who initially spread the rumor, as well as the \"sheep\" or people who bought into the rumor, would discard the vaccine if given, and those infected can be given the vaccine, would waste the vaccine. Lastly, there is a more sophisticated vaccine sampling method.\n",
      "\n",
      "The mean number of individuals infected in the course of the epidemic (including the initial infections) if the epidemic is let to run without any intervention, is 256.11 people, or approximately 257 people, out of 1000 people in the contact network, which is slightly smaller than the mean number calculated in question d, the scenario with the vaccine available after 28 days and rumor spreading.\n",
      "\n",
      "This vaccination strategy was only slightly more successful in terms of our metric, mean number of individuals infected, as approximately 257 people on average were infected, compared with 281 people on average being infected with the vaccination strategy from part d.   This result is due to the fact that people for the first 28 days are still susceptible and thus have a probability of becoming infected, which is when a large number of infections occur.  Furthermore, the vaccine given after day 28 is still wasted on some of the celebrities and \"sheep\" who bought into the anti-vaccine rumor.  Lastly, the vaccine still could be given to people who recovered, as in the model, one does not assume to know the S vs. R status of the nominated friend.\n",
      "\n",
      "However, even with the negative rumor spreading, the delayed vaccine delivery, and some of these reasons, this scenario is still better in terms of reducing the mean number of people infected compared with the scenario with the simpler vaccination sampling method (question d)."
     ]
    },
    {
     "cell_type": "code",
     "collapsed": false,
     "input": [
      "# Simulate\n",
      "\n",
      "num_simulations = 100\n",
      "mean_i_nodes = []\n",
      "\n",
      "for k in range(0,num_simulations):\n",
      "    G = nx.erdos_renyi_graph(1000, 0.01)\n",
      "    init_infs = [6, 263, 270, 604, 640, 645, 704, 850, 965, 994]\n",
      "    p_si = 0.25\n",
      "    p_ir = 0.12\n",
      "    num_time_steps = 200\n",
      "    frac_vac = 0\n",
      "    p_vac = 0\n",
      "    sheep_nodes = []\n",
      "    celeb_nodes = []\n",
      "    \n",
      "    num_s_nodes = []\n",
      "    num_i_nodes = []\n",
      "    num_r_nodes = []\n",
      "    (num_s_nodes, num_i_nodes, num_r_nodes, num_same) = simulate(G, p_si, p_ir, p_vac, frac_vac,init_infs, num_time_steps, sheep_nodes,celeb_nodes)\n",
      "    make_plot(G.number_of_nodes(), num_s_nodes , num_i_nodes , num_r_nodes , num_time_steps)\n",
      "    mean_i_nodes.append(num_r_nodes[-1]-num_same)\n",
      "#print mean(mean_i_nodes)"
     ],
     "language": "python",
     "metadata": {},
     "outputs": [
      {
       "metadata": {},
       "output_type": "display_data",
       "png": "[encoded data removed]",
       "text": [
        "<matplotlib.figure.Figure at 0x7b7c320>"
       ]
      }
     ],
     "prompt_number": 102
    },
    {
     "cell_type": "markdown",
     "metadata": {},
     "source": [
      "The proportion of susceptible people in the network decreases over time in a somewhat sigmoidal fashion, with an asymptotic value approximately between 0.4 and 0.7; the proportion of recovered people in the network increases over time in a somewhat sigmoidal fashion, with an asymptotic value between 0.4 and 0.7; and the proportion of infected people increases and then decreases towards zero over time, with the peak around time step (day) 50, and its graph is somewhat right-skewed."
     ]
    }
   ],
   "metadata": {}
  }
 ]
}